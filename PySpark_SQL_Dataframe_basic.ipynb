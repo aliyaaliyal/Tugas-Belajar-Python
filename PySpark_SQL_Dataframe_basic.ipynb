{
  "nbformat": 4,
  "nbformat_minor": 0,
  "metadata": {
    "colab": {
      "provenance": [],
      "authorship_tag": "ABX9TyPNwZiskXgfPe0P63ttVZjC",
      "include_colab_link": true
    },
    "kernelspec": {
      "name": "python3",
      "display_name": "Python 3"
    },
    "language_info": {
      "name": "python"
    }
  },
  "cells": [
    {
      "cell_type": "markdown",
      "metadata": {
        "id": "view-in-github",
        "colab_type": "text"
      },
      "source": [
        "<a href=\"https://colab.research.google.com/github/aliyaaliyal/Tugas-Belajar-Python/blob/main/PySpark_SQL_Dataframe_basic.ipynb\" target=\"_parent\"><img src=\"https://colab.research.google.com/assets/colab-badge.svg\" alt=\"Open In Colab\"/></a>"
      ]
    },
    {
      "cell_type": "code",
      "execution_count": 1,
      "metadata": {
        "id": "zMrW10X494oe"
      },
      "outputs": [],
      "source": [
        "!apt-get install openjdk-8-jdk-headless -qq > /dev/null #instalasi openjdk\n",
        "!wget -q http://archive.apache.org/dist/spark/spark-3.1.1/spark-3.1.1-bin-hadoop3.2.tgz #mengunduh spark dan hadoop\n",
        "!tar xf spark-3.1.1-bin-hadoop3.2.tgz #ekstrak file hadoop dan spark\n",
        "!pip install -q findspark #instalasi findspark"
      ]
    },
    {
      "cell_type": "code",
      "source": [
        "import os\n",
        "os.environ[\"JAVA_HOME\"] = \"/usr/lib/jvm/java-8-openjdk-amd64\"\n",
        "os.environ[\"SPARK_HOME\"] = \"/content/spark-3.1.1-bin-hadoop3.2\""
      ],
      "metadata": {
        "id": "3_XBsL9l_s1W"
      },
      "execution_count": 2,
      "outputs": []
    },
    {
      "cell_type": "code",
      "source": [
        "import findspark \n",
        "findspark.init() #inisialisasi findspark\n",
        "from pyspark.sql import SparkSession #mengimport sparksession\n",
        "spark = SparkSession.builder.master(\"local[*]\").getOrCreate() #jika sudah ada dapatkan session, jika blm ada buat session baru\n",
        "spark.conf.set(\"spark.sql.repl.eagerEval.enabled\", True) # Properti yang digunakan untuk memformat tabel keluaran lebih baik\n",
        "spark #memanggil spark"
      ],
      "metadata": {
        "colab": {
          "base_uri": "https://localhost:8080/",
          "height": 222
        },
        "id": "pfNgQMa-_9Dl",
        "outputId": "cb4c42c3-8bc0-403a-c268-6c1ed82f9886"
      },
      "execution_count": 3,
      "outputs": [
        {
          "output_type": "execute_result",
          "data": {
            "text/plain": [
              "<pyspark.sql.session.SparkSession at 0x7f0ec0e2e350>"
            ],
            "text/html": [
              "\n",
              "            <div>\n",
              "                <p><b>SparkSession - in-memory</b></p>\n",
              "                \n",
              "        <div>\n",
              "            <p><b>SparkContext</b></p>\n",
              "\n",
              "            <p><a href=\"http://f8a093f8eeea:4040\">Spark UI</a></p>\n",
              "\n",
              "            <dl>\n",
              "              <dt>Version</dt>\n",
              "                <dd><code>v3.1.1</code></dd>\n",
              "              <dt>Master</dt>\n",
              "                <dd><code>local[*]</code></dd>\n",
              "              <dt>AppName</dt>\n",
              "                <dd><code>pyspark-shell</code></dd>\n",
              "            </dl>\n",
              "        </div>\n",
              "        \n",
              "            </div>\n",
              "        "
            ]
          },
          "metadata": {},
          "execution_count": 3
        }
      ]
    },
    {
      "cell_type": "code",
      "source": [
        "# Muat csv ke dalam dataframe\n",
        "titanic_df = spark.read.csv(\"/content/spark-3.1.1-bin-hadoop3.2/train.csv\", header=True, inferSchema=True)\n",
        "titanic_df"
      ],
      "metadata": {
        "colab": {
          "base_uri": "https://localhost:8080/",
          "height": 520
        },
        "id": "XzD3Lcu8Ay6a",
        "outputId": "2b0e930d-82f6-4f03-da72-49cf4d1a28a7"
      },
      "execution_count": 6,
      "outputs": [
        {
          "output_type": "execute_result",
          "data": {
            "text/plain": [
              "+-----------+--------+------+--------------------+------+----+-----+-----+----------------+-------+-----+--------+\n",
              "|PassengerId|Survived|Pclass|                Name|   Sex| Age|SibSp|Parch|          Ticket|   Fare|Cabin|Embarked|\n",
              "+-----------+--------+------+--------------------+------+----+-----+-----+----------------+-------+-----+--------+\n",
              "|          1|       0|     3|Braund, Mr. Owen ...|  male|22.0|    1|    0|       A/5 21171|   7.25| null|       S|\n",
              "|          2|       1|     1|Cumings, Mrs. Joh...|female|38.0|    1|    0|        PC 17599|71.2833|  C85|       C|\n",
              "|          3|       1|     3|Heikkinen, Miss. ...|female|26.0|    0|    0|STON/O2. 3101282|  7.925| null|       S|\n",
              "|          4|       1|     1|Futrelle, Mrs. Ja...|female|35.0|    1|    0|          113803|   53.1| C123|       S|\n",
              "|          5|       0|     3|Allen, Mr. Willia...|  male|35.0|    0|    0|          373450|   8.05| null|       S|\n",
              "|          6|       0|     3|    Moran, Mr. James|  male|null|    0|    0|          330877| 8.4583| null|       Q|\n",
              "|          7|       0|     1|McCarthy, Mr. Tim...|  male|54.0|    0|    0|           17463|51.8625|  E46|       S|\n",
              "|          8|       0|     3|Palsson, Master. ...|  male| 2.0|    3|    1|          349909| 21.075| null|       S|\n",
              "|          9|       1|     3|Johnson, Mrs. Osc...|female|27.0|    0|    2|          347742|11.1333| null|       S|\n",
              "|         10|       1|     2|Nasser, Mrs. Nich...|female|14.0|    1|    0|          237736|30.0708| null|       C|\n",
              "|         11|       1|     3|Sandstrom, Miss. ...|female| 4.0|    1|    1|         PP 9549|   16.7|   G6|       S|\n",
              "|         12|       1|     1|Bonnell, Miss. El...|female|58.0|    0|    0|          113783|  26.55| C103|       S|\n",
              "|         13|       0|     3|Saundercock, Mr. ...|  male|20.0|    0|    0|       A/5. 2151|   8.05| null|       S|\n",
              "|         14|       0|     3|Andersson, Mr. An...|  male|39.0|    1|    5|          347082| 31.275| null|       S|\n",
              "|         15|       0|     3|Vestrom, Miss. Hu...|female|14.0|    0|    0|          350406| 7.8542| null|       S|\n",
              "|         16|       1|     2|Hewlett, Mrs. (Ma...|female|55.0|    0|    0|          248706|   16.0| null|       S|\n",
              "|         17|       0|     3|Rice, Master. Eugene|  male| 2.0|    4|    1|          382652| 29.125| null|       Q|\n",
              "|         18|       1|     2|Williams, Mr. Cha...|  male|null|    0|    0|          244373|   13.0| null|       S|\n",
              "|         19|       0|     3|Vander Planke, Mr...|female|31.0|    1|    0|          345763|   18.0| null|       S|\n",
              "|         20|       1|     3|Masselmani, Mrs. ...|female|null|    0|    0|            2649|  7.225| null|       C|\n",
              "+-----------+--------+------+--------------------+------+----+-----+-----+----------------+-------+-----+--------+\n",
              "only showing top 20 rows"
            ],
            "text/html": [
              "<table border='1'>\n",
              "<tr><th>PassengerId</th><th>Survived</th><th>Pclass</th><th>Name</th><th>Sex</th><th>Age</th><th>SibSp</th><th>Parch</th><th>Ticket</th><th>Fare</th><th>Cabin</th><th>Embarked</th></tr>\n",
              "<tr><td>1</td><td>0</td><td>3</td><td>Braund, Mr. Owen ...</td><td>male</td><td>22.0</td><td>1</td><td>0</td><td>A/5 21171</td><td>7.25</td><td>null</td><td>S</td></tr>\n",
              "<tr><td>2</td><td>1</td><td>1</td><td>Cumings, Mrs. Joh...</td><td>female</td><td>38.0</td><td>1</td><td>0</td><td>PC 17599</td><td>71.2833</td><td>C85</td><td>C</td></tr>\n",
              "<tr><td>3</td><td>1</td><td>3</td><td>Heikkinen, Miss. ...</td><td>female</td><td>26.0</td><td>0</td><td>0</td><td>STON/O2. 3101282</td><td>7.925</td><td>null</td><td>S</td></tr>\n",
              "<tr><td>4</td><td>1</td><td>1</td><td>Futrelle, Mrs. Ja...</td><td>female</td><td>35.0</td><td>1</td><td>0</td><td>113803</td><td>53.1</td><td>C123</td><td>S</td></tr>\n",
              "<tr><td>5</td><td>0</td><td>3</td><td>Allen, Mr. Willia...</td><td>male</td><td>35.0</td><td>0</td><td>0</td><td>373450</td><td>8.05</td><td>null</td><td>S</td></tr>\n",
              "<tr><td>6</td><td>0</td><td>3</td><td>Moran, Mr. James</td><td>male</td><td>null</td><td>0</td><td>0</td><td>330877</td><td>8.4583</td><td>null</td><td>Q</td></tr>\n",
              "<tr><td>7</td><td>0</td><td>1</td><td>McCarthy, Mr. Tim...</td><td>male</td><td>54.0</td><td>0</td><td>0</td><td>17463</td><td>51.8625</td><td>E46</td><td>S</td></tr>\n",
              "<tr><td>8</td><td>0</td><td>3</td><td>Palsson, Master. ...</td><td>male</td><td>2.0</td><td>3</td><td>1</td><td>349909</td><td>21.075</td><td>null</td><td>S</td></tr>\n",
              "<tr><td>9</td><td>1</td><td>3</td><td>Johnson, Mrs. Osc...</td><td>female</td><td>27.0</td><td>0</td><td>2</td><td>347742</td><td>11.1333</td><td>null</td><td>S</td></tr>\n",
              "<tr><td>10</td><td>1</td><td>2</td><td>Nasser, Mrs. Nich...</td><td>female</td><td>14.0</td><td>1</td><td>0</td><td>237736</td><td>30.0708</td><td>null</td><td>C</td></tr>\n",
              "<tr><td>11</td><td>1</td><td>3</td><td>Sandstrom, Miss. ...</td><td>female</td><td>4.0</td><td>1</td><td>1</td><td>PP 9549</td><td>16.7</td><td>G6</td><td>S</td></tr>\n",
              "<tr><td>12</td><td>1</td><td>1</td><td>Bonnell, Miss. El...</td><td>female</td><td>58.0</td><td>0</td><td>0</td><td>113783</td><td>26.55</td><td>C103</td><td>S</td></tr>\n",
              "<tr><td>13</td><td>0</td><td>3</td><td>Saundercock, Mr. ...</td><td>male</td><td>20.0</td><td>0</td><td>0</td><td>A/5. 2151</td><td>8.05</td><td>null</td><td>S</td></tr>\n",
              "<tr><td>14</td><td>0</td><td>3</td><td>Andersson, Mr. An...</td><td>male</td><td>39.0</td><td>1</td><td>5</td><td>347082</td><td>31.275</td><td>null</td><td>S</td></tr>\n",
              "<tr><td>15</td><td>0</td><td>3</td><td>Vestrom, Miss. Hu...</td><td>female</td><td>14.0</td><td>0</td><td>0</td><td>350406</td><td>7.8542</td><td>null</td><td>S</td></tr>\n",
              "<tr><td>16</td><td>1</td><td>2</td><td>Hewlett, Mrs. (Ma...</td><td>female</td><td>55.0</td><td>0</td><td>0</td><td>248706</td><td>16.0</td><td>null</td><td>S</td></tr>\n",
              "<tr><td>17</td><td>0</td><td>3</td><td>Rice, Master. Eugene</td><td>male</td><td>2.0</td><td>4</td><td>1</td><td>382652</td><td>29.125</td><td>null</td><td>Q</td></tr>\n",
              "<tr><td>18</td><td>1</td><td>2</td><td>Williams, Mr. Cha...</td><td>male</td><td>null</td><td>0</td><td>0</td><td>244373</td><td>13.0</td><td>null</td><td>S</td></tr>\n",
              "<tr><td>19</td><td>0</td><td>3</td><td>Vander Planke, Mr...</td><td>female</td><td>31.0</td><td>1</td><td>0</td><td>345763</td><td>18.0</td><td>null</td><td>S</td></tr>\n",
              "<tr><td>20</td><td>1</td><td>3</td><td>Masselmani, Mrs. ...</td><td>female</td><td>null</td><td>0</td><td>0</td><td>2649</td><td>7.225</td><td>null</td><td>C</td></tr>\n",
              "</table>\n",
              "only showing top 20 rows\n"
            ]
          },
          "metadata": {},
          "execution_count": 6
        }
      ]
    },
    {
      "cell_type": "code",
      "source": [
        "titanic_df.printSchema() #melihat skema dataframe"
      ],
      "metadata": {
        "colab": {
          "base_uri": "https://localhost:8080/"
        },
        "id": "5h9dfXpICanF",
        "outputId": "0fe3c4bf-f156-4a39-d088-428b30d67ea9"
      },
      "execution_count": 7,
      "outputs": [
        {
          "output_type": "stream",
          "name": "stdout",
          "text": [
            "root\n",
            " |-- PassengerId: integer (nullable = true)\n",
            " |-- Survived: integer (nullable = true)\n",
            " |-- Pclass: integer (nullable = true)\n",
            " |-- Name: string (nullable = true)\n",
            " |-- Sex: string (nullable = true)\n",
            " |-- Age: double (nullable = true)\n",
            " |-- SibSp: integer (nullable = true)\n",
            " |-- Parch: integer (nullable = true)\n",
            " |-- Ticket: string (nullable = true)\n",
            " |-- Fare: double (nullable = true)\n",
            " |-- Cabin: string (nullable = true)\n",
            " |-- Embarked: string (nullable = true)\n",
            "\n"
          ]
        }
      ]
    },
    {
      "cell_type": "code",
      "source": [
        "titanic_df.limit(7) #m3mbatasi tampilan sebanyak 7 baris"
      ],
      "metadata": {
        "colab": {
          "base_uri": "https://localhost:8080/",
          "height": 204
        },
        "id": "PJOwwBVxCs_T",
        "outputId": "afcb1377-2f28-4b50-dc2b-27243677442f"
      },
      "execution_count": 9,
      "outputs": [
        {
          "output_type": "execute_result",
          "data": {
            "text/plain": [
              "+-----------+--------+------+--------------------+------+----+-----+-----+----------------+-------+-----+--------+\n",
              "|PassengerId|Survived|Pclass|                Name|   Sex| Age|SibSp|Parch|          Ticket|   Fare|Cabin|Embarked|\n",
              "+-----------+--------+------+--------------------+------+----+-----+-----+----------------+-------+-----+--------+\n",
              "|          1|       0|     3|Braund, Mr. Owen ...|  male|22.0|    1|    0|       A/5 21171|   7.25| null|       S|\n",
              "|          2|       1|     1|Cumings, Mrs. Joh...|female|38.0|    1|    0|        PC 17599|71.2833|  C85|       C|\n",
              "|          3|       1|     3|Heikkinen, Miss. ...|female|26.0|    0|    0|STON/O2. 3101282|  7.925| null|       S|\n",
              "|          4|       1|     1|Futrelle, Mrs. Ja...|female|35.0|    1|    0|          113803|   53.1| C123|       S|\n",
              "|          5|       0|     3|Allen, Mr. Willia...|  male|35.0|    0|    0|          373450|   8.05| null|       S|\n",
              "|          6|       0|     3|    Moran, Mr. James|  male|null|    0|    0|          330877| 8.4583| null|       Q|\n",
              "|          7|       0|     1|McCarthy, Mr. Tim...|  male|54.0|    0|    0|           17463|51.8625|  E46|       S|\n",
              "+-----------+--------+------+--------------------+------+----+-----+-----+----------------+-------+-----+--------+"
            ],
            "text/html": [
              "<table border='1'>\n",
              "<tr><th>PassengerId</th><th>Survived</th><th>Pclass</th><th>Name</th><th>Sex</th><th>Age</th><th>SibSp</th><th>Parch</th><th>Ticket</th><th>Fare</th><th>Cabin</th><th>Embarked</th></tr>\n",
              "<tr><td>1</td><td>0</td><td>3</td><td>Braund, Mr. Owen ...</td><td>male</td><td>22.0</td><td>1</td><td>0</td><td>A/5 21171</td><td>7.25</td><td>null</td><td>S</td></tr>\n",
              "<tr><td>2</td><td>1</td><td>1</td><td>Cumings, Mrs. Joh...</td><td>female</td><td>38.0</td><td>1</td><td>0</td><td>PC 17599</td><td>71.2833</td><td>C85</td><td>C</td></tr>\n",
              "<tr><td>3</td><td>1</td><td>3</td><td>Heikkinen, Miss. ...</td><td>female</td><td>26.0</td><td>0</td><td>0</td><td>STON/O2. 3101282</td><td>7.925</td><td>null</td><td>S</td></tr>\n",
              "<tr><td>4</td><td>1</td><td>1</td><td>Futrelle, Mrs. Ja...</td><td>female</td><td>35.0</td><td>1</td><td>0</td><td>113803</td><td>53.1</td><td>C123</td><td>S</td></tr>\n",
              "<tr><td>5</td><td>0</td><td>3</td><td>Allen, Mr. Willia...</td><td>male</td><td>35.0</td><td>0</td><td>0</td><td>373450</td><td>8.05</td><td>null</td><td>S</td></tr>\n",
              "<tr><td>6</td><td>0</td><td>3</td><td>Moran, Mr. James</td><td>male</td><td>null</td><td>0</td><td>0</td><td>330877</td><td>8.4583</td><td>null</td><td>Q</td></tr>\n",
              "<tr><td>7</td><td>0</td><td>1</td><td>McCarthy, Mr. Tim...</td><td>male</td><td>54.0</td><td>0</td><td>0</td><td>17463</td><td>51.8625</td><td>E46</td><td>S</td></tr>\n",
              "</table>\n"
            ]
          },
          "metadata": {},
          "execution_count": 9
        }
      ]
    },
    {
      "cell_type": "code",
      "source": [
        "titanic_df.select('PassengerId', 'Survived').limit(5) #menampilkan kolom passengerId dan survived serta membatasi tampilan sebanyak 5baris"
      ],
      "metadata": {
        "colab": {
          "base_uri": "https://localhost:8080/",
          "height": 158
        },
        "id": "dfOa2BJEC2dv",
        "outputId": "16714fbe-22a6-4292-fd42-19fcd6ea6410"
      },
      "execution_count": 10,
      "outputs": [
        {
          "output_type": "execute_result",
          "data": {
            "text/plain": [
              "+-----------+--------+\n",
              "|PassengerId|Survived|\n",
              "+-----------+--------+\n",
              "|          1|       0|\n",
              "|          2|       1|\n",
              "|          3|       1|\n",
              "|          4|       1|\n",
              "|          5|       0|\n",
              "+-----------+--------+"
            ],
            "text/html": [
              "<table border='1'>\n",
              "<tr><th>PassengerId</th><th>Survived</th></tr>\n",
              "<tr><td>1</td><td>0</td></tr>\n",
              "<tr><td>2</td><td>1</td></tr>\n",
              "<tr><td>3</td><td>1</td></tr>\n",
              "<tr><td>4</td><td>1</td></tr>\n",
              "<tr><td>5</td><td>0</td></tr>\n",
              "</table>\n"
            ]
          },
          "metadata": {},
          "execution_count": 10
        }
      ]
    },
    {
      "cell_type": "code",
      "source": [
        "titanic_df.where((titanic_df.Age > 25) & (titanic_df.Survived == 1)).limit(5) \n",
        "#menampilkan semua data yg umur lebih dari 25 dan servived=1"
      ],
      "metadata": {
        "colab": {
          "base_uri": "https://localhost:8080/",
          "height": 158
        },
        "id": "ffeaOJ7VDE9s",
        "outputId": "92787329-09d5-4ae1-b79d-674c68d94bbe"
      },
      "execution_count": 11,
      "outputs": [
        {
          "output_type": "execute_result",
          "data": {
            "text/plain": [
              "+-----------+--------+------+--------------------+------+----+-----+-----+----------------+-------+-----+--------+\n",
              "|PassengerId|Survived|Pclass|                Name|   Sex| Age|SibSp|Parch|          Ticket|   Fare|Cabin|Embarked|\n",
              "+-----------+--------+------+--------------------+------+----+-----+-----+----------------+-------+-----+--------+\n",
              "|          2|       1|     1|Cumings, Mrs. Joh...|female|38.0|    1|    0|        PC 17599|71.2833|  C85|       C|\n",
              "|          3|       1|     3|Heikkinen, Miss. ...|female|26.0|    0|    0|STON/O2. 3101282|  7.925| null|       S|\n",
              "|          4|       1|     1|Futrelle, Mrs. Ja...|female|35.0|    1|    0|          113803|   53.1| C123|       S|\n",
              "|          9|       1|     3|Johnson, Mrs. Osc...|female|27.0|    0|    2|          347742|11.1333| null|       S|\n",
              "|         12|       1|     1|Bonnell, Miss. El...|female|58.0|    0|    0|          113783|  26.55| C103|       S|\n",
              "+-----------+--------+------+--------------------+------+----+-----+-----+----------------+-------+-----+--------+"
            ],
            "text/html": [
              "<table border='1'>\n",
              "<tr><th>PassengerId</th><th>Survived</th><th>Pclass</th><th>Name</th><th>Sex</th><th>Age</th><th>SibSp</th><th>Parch</th><th>Ticket</th><th>Fare</th><th>Cabin</th><th>Embarked</th></tr>\n",
              "<tr><td>2</td><td>1</td><td>1</td><td>Cumings, Mrs. Joh...</td><td>female</td><td>38.0</td><td>1</td><td>0</td><td>PC 17599</td><td>71.2833</td><td>C85</td><td>C</td></tr>\n",
              "<tr><td>3</td><td>1</td><td>3</td><td>Heikkinen, Miss. ...</td><td>female</td><td>26.0</td><td>0</td><td>0</td><td>STON/O2. 3101282</td><td>7.925</td><td>null</td><td>S</td></tr>\n",
              "<tr><td>4</td><td>1</td><td>1</td><td>Futrelle, Mrs. Ja...</td><td>female</td><td>35.0</td><td>1</td><td>0</td><td>113803</td><td>53.1</td><td>C123</td><td>S</td></tr>\n",
              "<tr><td>9</td><td>1</td><td>3</td><td>Johnson, Mrs. Osc...</td><td>female</td><td>27.0</td><td>0</td><td>2</td><td>347742</td><td>11.1333</td><td>null</td><td>S</td></tr>\n",
              "<tr><td>12</td><td>1</td><td>1</td><td>Bonnell, Miss. El...</td><td>female</td><td>58.0</td><td>0</td><td>0</td><td>113783</td><td>26.55</td><td>C103</td><td>S</td></tr>\n",
              "</table>\n"
            ]
          },
          "metadata": {},
          "execution_count": 11
        }
      ]
    },
    {
      "cell_type": "code",
      "source": [
        "titanic_df.agg({'Fare':'avg'}) #agregate kolom fare bertipe rata2"
      ],
      "metadata": {
        "colab": {
          "base_uri": "https://localhost:8080/",
          "height": 67
        },
        "id": "U5wXJP1gDgLx",
        "outputId": "73b469da-ec95-4fc5-9e03-05cccee1aa84"
      },
      "execution_count": 12,
      "outputs": [
        {
          "output_type": "execute_result",
          "data": {
            "text/plain": [
              "+----------------+\n",
              "|       avg(Fare)|\n",
              "+----------------+\n",
              "|32.2042079685746|\n",
              "+----------------+"
            ],
            "text/html": [
              "<table border='1'>\n",
              "<tr><th>avg(Fare)</th></tr>\n",
              "<tr><td>32.2042079685746</td></tr>\n",
              "</table>\n"
            ]
          },
          "metadata": {},
          "execution_count": 12
        }
      ]
    },
    {
      "cell_type": "code",
      "source": [
        "titanic_df.groupBy('Pclass').agg({'Fare':'avg'}).orderBy('Pclass', ascending=False)\n",
        "#menampilkan rata2 kolom fare(tarif) berdasarkan group kolom pclass"
      ],
      "metadata": {
        "colab": {
          "base_uri": "https://localhost:8080/",
          "height": 112
        },
        "id": "-7ywJm5aDsPS",
        "outputId": "3b754491-3882-4373-ef92-3be6244060f9"
      },
      "execution_count": 13,
      "outputs": [
        {
          "output_type": "execute_result",
          "data": {
            "text/plain": [
              "+------+------------------+\n",
              "|Pclass|         avg(Fare)|\n",
              "+------+------------------+\n",
              "|     3|13.675550101832997|\n",
              "|     2| 20.66218315217391|\n",
              "|     1| 84.15468749999992|\n",
              "+------+------------------+"
            ],
            "text/html": [
              "<table border='1'>\n",
              "<tr><th>Pclass</th><th>avg(Fare)</th></tr>\n",
              "<tr><td>3</td><td>13.675550101832997</td></tr>\n",
              "<tr><td>2</td><td>20.66218315217391</td></tr>\n",
              "<tr><td>1</td><td>84.15468749999992</td></tr>\n",
              "</table>\n"
            ]
          },
          "metadata": {},
          "execution_count": 13
        }
      ]
    },
    {
      "cell_type": "code",
      "source": [
        "titanic_df.filter(titanic_df.Age > 25).agg({'Fare':'avg'}) #menampilkan rata2 tarif untuk usia diatas 25"
      ],
      "metadata": {
        "colab": {
          "base_uri": "https://localhost:8080/",
          "height": 67
        },
        "id": "c3mlXP83EMjD",
        "outputId": "2e1b5a36-c728-446a-da6d-97b97e3b33a8"
      },
      "execution_count": 14,
      "outputs": [
        {
          "output_type": "execute_result",
          "data": {
            "text/plain": [
              "+-----------------+\n",
              "|        avg(Fare)|\n",
              "+-----------------+\n",
              "|37.61960169491524|\n",
              "+-----------------+"
            ],
            "text/html": [
              "<table border='1'>\n",
              "<tr><th>avg(Fare)</th></tr>\n",
              "<tr><td>37.61960169491524</td></tr>\n",
              "</table>\n"
            ]
          },
          "metadata": {},
          "execution_count": 14
        }
      ]
    },
    {
      "cell_type": "code",
      "source": [
        "from pyspark.sql.types import IntegerType\n",
        "from pyspark.sql.functions import udf\n",
        "\n",
        "def round_float_down(x):\n",
        "  return int(x)\n",
        "\n",
        "round_float_down_udf = udf(round_float_down, IntegerType())\n",
        "\n",
        "titanic_df.select('PassengerId', 'Fare', round_float_down_udf('Fare').alias('pembulatan tarif')).limit(5)\n",
        "#menampilkan kolom passengerid dan kolom fare serta membulatkan ke bawah kolom fare dan diberi nama kolom pembulatan tarif"
      ],
      "metadata": {
        "colab": {
          "base_uri": "https://localhost:8080/",
          "height": 158
        },
        "id": "KmAJWJ1hEcSD",
        "outputId": "6ccf86b2-3848-482b-f4ca-1e65e599c34d"
      },
      "execution_count": 16,
      "outputs": [
        {
          "output_type": "execute_result",
          "data": {
            "text/plain": [
              "+-----------+-------+----------------+\n",
              "|PassengerId|   Fare|pembulatan tarif|\n",
              "+-----------+-------+----------------+\n",
              "|          1|   7.25|               7|\n",
              "|          2|71.2833|              71|\n",
              "|          3|  7.925|               7|\n",
              "|          4|   53.1|              53|\n",
              "|          5|   8.05|               8|\n",
              "+-----------+-------+----------------+"
            ],
            "text/html": [
              "<table border='1'>\n",
              "<tr><th>PassengerId</th><th>Fare</th><th>pembulatan tarif</th></tr>\n",
              "<tr><td>1</td><td>7.25</td><td>7</td></tr>\n",
              "<tr><td>2</td><td>71.2833</td><td>71</td></tr>\n",
              "<tr><td>3</td><td>7.925</td><td>7</td></tr>\n",
              "<tr><td>4</td><td>53.1</td><td>53</td></tr>\n",
              "<tr><td>5</td><td>8.05</td><td>8</td></tr>\n",
              "</table>\n"
            ]
          },
          "metadata": {},
          "execution_count": 16
        }
      ]
    },
    {
      "cell_type": "code",
      "source": [
        "titanic_df.createOrReplaceTempView(\"Titanic\") #membuat view"
      ],
      "metadata": {
        "id": "WKz7D81pFP6l"
      },
      "execution_count": 17,
      "outputs": []
    },
    {
      "cell_type": "code",
      "source": [
        "spark.sql('select * from Titanic') #menampilkan semua kolom dari view titanic"
      ],
      "metadata": {
        "colab": {
          "base_uri": "https://localhost:8080/",
          "height": 520
        },
        "id": "ywZevtZuFXtu",
        "outputId": "5b35ac93-f13d-4340-bc4f-952cea3f3916"
      },
      "execution_count": 18,
      "outputs": [
        {
          "output_type": "execute_result",
          "data": {
            "text/plain": [
              "+-----------+--------+------+--------------------+------+----+-----+-----+----------------+-------+-----+--------+\n",
              "|PassengerId|Survived|Pclass|                Name|   Sex| Age|SibSp|Parch|          Ticket|   Fare|Cabin|Embarked|\n",
              "+-----------+--------+------+--------------------+------+----+-----+-----+----------------+-------+-----+--------+\n",
              "|          1|       0|     3|Braund, Mr. Owen ...|  male|22.0|    1|    0|       A/5 21171|   7.25| null|       S|\n",
              "|          2|       1|     1|Cumings, Mrs. Joh...|female|38.0|    1|    0|        PC 17599|71.2833|  C85|       C|\n",
              "|          3|       1|     3|Heikkinen, Miss. ...|female|26.0|    0|    0|STON/O2. 3101282|  7.925| null|       S|\n",
              "|          4|       1|     1|Futrelle, Mrs. Ja...|female|35.0|    1|    0|          113803|   53.1| C123|       S|\n",
              "|          5|       0|     3|Allen, Mr. Willia...|  male|35.0|    0|    0|          373450|   8.05| null|       S|\n",
              "|          6|       0|     3|    Moran, Mr. James|  male|null|    0|    0|          330877| 8.4583| null|       Q|\n",
              "|          7|       0|     1|McCarthy, Mr. Tim...|  male|54.0|    0|    0|           17463|51.8625|  E46|       S|\n",
              "|          8|       0|     3|Palsson, Master. ...|  male| 2.0|    3|    1|          349909| 21.075| null|       S|\n",
              "|          9|       1|     3|Johnson, Mrs. Osc...|female|27.0|    0|    2|          347742|11.1333| null|       S|\n",
              "|         10|       1|     2|Nasser, Mrs. Nich...|female|14.0|    1|    0|          237736|30.0708| null|       C|\n",
              "|         11|       1|     3|Sandstrom, Miss. ...|female| 4.0|    1|    1|         PP 9549|   16.7|   G6|       S|\n",
              "|         12|       1|     1|Bonnell, Miss. El...|female|58.0|    0|    0|          113783|  26.55| C103|       S|\n",
              "|         13|       0|     3|Saundercock, Mr. ...|  male|20.0|    0|    0|       A/5. 2151|   8.05| null|       S|\n",
              "|         14|       0|     3|Andersson, Mr. An...|  male|39.0|    1|    5|          347082| 31.275| null|       S|\n",
              "|         15|       0|     3|Vestrom, Miss. Hu...|female|14.0|    0|    0|          350406| 7.8542| null|       S|\n",
              "|         16|       1|     2|Hewlett, Mrs. (Ma...|female|55.0|    0|    0|          248706|   16.0| null|       S|\n",
              "|         17|       0|     3|Rice, Master. Eugene|  male| 2.0|    4|    1|          382652| 29.125| null|       Q|\n",
              "|         18|       1|     2|Williams, Mr. Cha...|  male|null|    0|    0|          244373|   13.0| null|       S|\n",
              "|         19|       0|     3|Vander Planke, Mr...|female|31.0|    1|    0|          345763|   18.0| null|       S|\n",
              "|         20|       1|     3|Masselmani, Mrs. ...|female|null|    0|    0|            2649|  7.225| null|       C|\n",
              "+-----------+--------+------+--------------------+------+----+-----+-----+----------------+-------+-----+--------+\n",
              "only showing top 20 rows"
            ],
            "text/html": [
              "<table border='1'>\n",
              "<tr><th>PassengerId</th><th>Survived</th><th>Pclass</th><th>Name</th><th>Sex</th><th>Age</th><th>SibSp</th><th>Parch</th><th>Ticket</th><th>Fare</th><th>Cabin</th><th>Embarked</th></tr>\n",
              "<tr><td>1</td><td>0</td><td>3</td><td>Braund, Mr. Owen ...</td><td>male</td><td>22.0</td><td>1</td><td>0</td><td>A/5 21171</td><td>7.25</td><td>null</td><td>S</td></tr>\n",
              "<tr><td>2</td><td>1</td><td>1</td><td>Cumings, Mrs. Joh...</td><td>female</td><td>38.0</td><td>1</td><td>0</td><td>PC 17599</td><td>71.2833</td><td>C85</td><td>C</td></tr>\n",
              "<tr><td>3</td><td>1</td><td>3</td><td>Heikkinen, Miss. ...</td><td>female</td><td>26.0</td><td>0</td><td>0</td><td>STON/O2. 3101282</td><td>7.925</td><td>null</td><td>S</td></tr>\n",
              "<tr><td>4</td><td>1</td><td>1</td><td>Futrelle, Mrs. Ja...</td><td>female</td><td>35.0</td><td>1</td><td>0</td><td>113803</td><td>53.1</td><td>C123</td><td>S</td></tr>\n",
              "<tr><td>5</td><td>0</td><td>3</td><td>Allen, Mr. Willia...</td><td>male</td><td>35.0</td><td>0</td><td>0</td><td>373450</td><td>8.05</td><td>null</td><td>S</td></tr>\n",
              "<tr><td>6</td><td>0</td><td>3</td><td>Moran, Mr. James</td><td>male</td><td>null</td><td>0</td><td>0</td><td>330877</td><td>8.4583</td><td>null</td><td>Q</td></tr>\n",
              "<tr><td>7</td><td>0</td><td>1</td><td>McCarthy, Mr. Tim...</td><td>male</td><td>54.0</td><td>0</td><td>0</td><td>17463</td><td>51.8625</td><td>E46</td><td>S</td></tr>\n",
              "<tr><td>8</td><td>0</td><td>3</td><td>Palsson, Master. ...</td><td>male</td><td>2.0</td><td>3</td><td>1</td><td>349909</td><td>21.075</td><td>null</td><td>S</td></tr>\n",
              "<tr><td>9</td><td>1</td><td>3</td><td>Johnson, Mrs. Osc...</td><td>female</td><td>27.0</td><td>0</td><td>2</td><td>347742</td><td>11.1333</td><td>null</td><td>S</td></tr>\n",
              "<tr><td>10</td><td>1</td><td>2</td><td>Nasser, Mrs. Nich...</td><td>female</td><td>14.0</td><td>1</td><td>0</td><td>237736</td><td>30.0708</td><td>null</td><td>C</td></tr>\n",
              "<tr><td>11</td><td>1</td><td>3</td><td>Sandstrom, Miss. ...</td><td>female</td><td>4.0</td><td>1</td><td>1</td><td>PP 9549</td><td>16.7</td><td>G6</td><td>S</td></tr>\n",
              "<tr><td>12</td><td>1</td><td>1</td><td>Bonnell, Miss. El...</td><td>female</td><td>58.0</td><td>0</td><td>0</td><td>113783</td><td>26.55</td><td>C103</td><td>S</td></tr>\n",
              "<tr><td>13</td><td>0</td><td>3</td><td>Saundercock, Mr. ...</td><td>male</td><td>20.0</td><td>0</td><td>0</td><td>A/5. 2151</td><td>8.05</td><td>null</td><td>S</td></tr>\n",
              "<tr><td>14</td><td>0</td><td>3</td><td>Andersson, Mr. An...</td><td>male</td><td>39.0</td><td>1</td><td>5</td><td>347082</td><td>31.275</td><td>null</td><td>S</td></tr>\n",
              "<tr><td>15</td><td>0</td><td>3</td><td>Vestrom, Miss. Hu...</td><td>female</td><td>14.0</td><td>0</td><td>0</td><td>350406</td><td>7.8542</td><td>null</td><td>S</td></tr>\n",
              "<tr><td>16</td><td>1</td><td>2</td><td>Hewlett, Mrs. (Ma...</td><td>female</td><td>55.0</td><td>0</td><td>0</td><td>248706</td><td>16.0</td><td>null</td><td>S</td></tr>\n",
              "<tr><td>17</td><td>0</td><td>3</td><td>Rice, Master. Eugene</td><td>male</td><td>2.0</td><td>4</td><td>1</td><td>382652</td><td>29.125</td><td>null</td><td>Q</td></tr>\n",
              "<tr><td>18</td><td>1</td><td>2</td><td>Williams, Mr. Cha...</td><td>male</td><td>null</td><td>0</td><td>0</td><td>244373</td><td>13.0</td><td>null</td><td>S</td></tr>\n",
              "<tr><td>19</td><td>0</td><td>3</td><td>Vander Planke, Mr...</td><td>female</td><td>31.0</td><td>1</td><td>0</td><td>345763</td><td>18.0</td><td>null</td><td>S</td></tr>\n",
              "<tr><td>20</td><td>1</td><td>3</td><td>Masselmani, Mrs. ...</td><td>female</td><td>null</td><td>0</td><td>0</td><td>2649</td><td>7.225</td><td>null</td><td>C</td></tr>\n",
              "</table>\n",
              "only showing top 20 rows\n"
            ]
          },
          "metadata": {},
          "execution_count": 18
        }
      ]
    },
    {
      "cell_type": "code",
      "source": [
        "spark.sql('select distinct(Pclass) from Titanic') #menampilkan data unik dari kolom pclass"
      ],
      "metadata": {
        "colab": {
          "base_uri": "https://localhost:8080/",
          "height": 112
        },
        "id": "tP9Ope--FnY3",
        "outputId": "3fb0f9d6-04ce-46aa-e853-cb332a032c17"
      },
      "execution_count": 20,
      "outputs": [
        {
          "output_type": "execute_result",
          "data": {
            "text/plain": [
              "+------+\n",
              "|Pclass|\n",
              "+------+\n",
              "|     1|\n",
              "|     3|\n",
              "|     2|\n",
              "+------+"
            ],
            "text/html": [
              "<table border='1'>\n",
              "<tr><th>Pclass</th></tr>\n",
              "<tr><td>1</td></tr>\n",
              "<tr><td>3</td></tr>\n",
              "<tr><td>2</td></tr>\n",
              "</table>\n"
            ]
          },
          "metadata": {},
          "execution_count": 20
        }
      ]
    },
    {
      "cell_type": "code",
      "source": [
        "spark.sql('select Name from Titanic where Sex=\"female\"') #menampilkan nama penumpang yang jenis kelaminnya perempuan"
      ],
      "metadata": {
        "colab": {
          "base_uri": "https://localhost:8080/",
          "height": 520
        },
        "id": "MVcL1rinGPic",
        "outputId": "39d49bec-029b-4e62-bee7-c81e41d7a797"
      },
      "execution_count": 23,
      "outputs": [
        {
          "output_type": "execute_result",
          "data": {
            "text/plain": [
              "+--------------------+\n",
              "|                Name|\n",
              "+--------------------+\n",
              "|Cumings, Mrs. Joh...|\n",
              "|Heikkinen, Miss. ...|\n",
              "|Futrelle, Mrs. Ja...|\n",
              "|Johnson, Mrs. Osc...|\n",
              "|Nasser, Mrs. Nich...|\n",
              "|Sandstrom, Miss. ...|\n",
              "|Bonnell, Miss. El...|\n",
              "|Vestrom, Miss. Hu...|\n",
              "|Hewlett, Mrs. (Ma...|\n",
              "|Vander Planke, Mr...|\n",
              "|Masselmani, Mrs. ...|\n",
              "|\"McGowan, Miss. A...|\n",
              "|Palsson, Miss. To...|\n",
              "|Asplund, Mrs. Car...|\n",
              "|\"O'Dwyer, Miss. E...|\n",
              "|Spencer, Mrs. Wil...|\n",
              "|Glynn, Miss. Mary...|\n",
              "|Vander Planke, Mi...|\n",
              "|Nicola-Yarred, Mi...|\n",
              "|Ahlin, Mrs. Johan...|\n",
              "+--------------------+\n",
              "only showing top 20 rows"
            ],
            "text/html": [
              "<table border='1'>\n",
              "<tr><th>Name</th></tr>\n",
              "<tr><td>Cumings, Mrs. Joh...</td></tr>\n",
              "<tr><td>Heikkinen, Miss. ...</td></tr>\n",
              "<tr><td>Futrelle, Mrs. Ja...</td></tr>\n",
              "<tr><td>Johnson, Mrs. Osc...</td></tr>\n",
              "<tr><td>Nasser, Mrs. Nich...</td></tr>\n",
              "<tr><td>Sandstrom, Miss. ...</td></tr>\n",
              "<tr><td>Bonnell, Miss. El...</td></tr>\n",
              "<tr><td>Vestrom, Miss. Hu...</td></tr>\n",
              "<tr><td>Hewlett, Mrs. (Ma...</td></tr>\n",
              "<tr><td>Vander Planke, Mr...</td></tr>\n",
              "<tr><td>Masselmani, Mrs. ...</td></tr>\n",
              "<tr><td>&quot;McGowan, Miss. A...</td></tr>\n",
              "<tr><td>Palsson, Miss. To...</td></tr>\n",
              "<tr><td>Asplund, Mrs. Car...</td></tr>\n",
              "<tr><td>&quot;O&#x27;Dwyer, Miss. E...</td></tr>\n",
              "<tr><td>Spencer, Mrs. Wil...</td></tr>\n",
              "<tr><td>Glynn, Miss. Mary...</td></tr>\n",
              "<tr><td>Vander Planke, Mi...</td></tr>\n",
              "<tr><td>Nicola-Yarred, Mi...</td></tr>\n",
              "<tr><td>Ahlin, Mrs. Johan...</td></tr>\n",
              "</table>\n",
              "only showing top 20 rows\n"
            ]
          },
          "metadata": {},
          "execution_count": 23
        }
      ]
    },
    {
      "cell_type": "code",
      "source": [
        "spark.sql('select count(Name) from Titanic where Sex=\"female\"') #menghitung total penumpang wanita"
      ],
      "metadata": {
        "colab": {
          "base_uri": "https://localhost:8080/",
          "height": 67
        },
        "id": "gawZlqSIHCE3",
        "outputId": "76e23139-c64b-423b-d8c4-575d34f03584"
      },
      "execution_count": 24,
      "outputs": [
        {
          "output_type": "execute_result",
          "data": {
            "text/plain": [
              "+-----------+\n",
              "|count(Name)|\n",
              "+-----------+\n",
              "|        314|\n",
              "+-----------+"
            ],
            "text/html": [
              "<table border='1'>\n",
              "<tr><th>count(Name)</th></tr>\n",
              "<tr><td>314</td></tr>\n",
              "</table>\n"
            ]
          },
          "metadata": {},
          "execution_count": 24
        }
      ]
    },
    {
      "cell_type": "code",
      "source": [
        "spark.sql('select sum(fare) from Titanic where Pclass=3') #menampilkan total pemasukan penumpang kelas 3"
      ],
      "metadata": {
        "colab": {
          "base_uri": "https://localhost:8080/",
          "height": 67
        },
        "id": "LHBIIW5-HgBu",
        "outputId": "db475b39-ee4c-454a-c303-ac473986f0c6"
      },
      "execution_count": 25,
      "outputs": [
        {
          "output_type": "execute_result",
          "data": {
            "text/plain": [
              "+-----------------+\n",
              "|        sum(fare)|\n",
              "+-----------------+\n",
              "|6714.695100000002|\n",
              "+-----------------+"
            ],
            "text/html": [
              "<table border='1'>\n",
              "<tr><th>sum(fare)</th></tr>\n",
              "<tr><td>6714.695100000002</td></tr>\n",
              "</table>\n"
            ]
          },
          "metadata": {},
          "execution_count": 25
        }
      ]
    },
    {
      "cell_type": "code",
      "source": [
        "#menampilkan kolom kelas dan total pemasukan penumpang kelas 3\n",
        "spark.sql('select Pclass, sum(fare) from Titanic where Pclass=3 group by Pclass ')"
      ],
      "metadata": {
        "colab": {
          "base_uri": "https://localhost:8080/",
          "height": 67
        },
        "id": "s1X5MEnfIAri",
        "outputId": "690c536d-c63b-4745-8ad6-fc5d8fb90269"
      },
      "execution_count": 27,
      "outputs": [
        {
          "output_type": "execute_result",
          "data": {
            "text/plain": [
              "+------+-----------------+\n",
              "|Pclass|        sum(fare)|\n",
              "+------+-----------------+\n",
              "|     3|6714.695100000002|\n",
              "+------+-----------------+"
            ],
            "text/html": [
              "<table border='1'>\n",
              "<tr><th>Pclass</th><th>sum(fare)</th></tr>\n",
              "<tr><td>3</td><td>6714.695100000002</td></tr>\n",
              "</table>\n"
            ]
          },
          "metadata": {},
          "execution_count": 27
        }
      ]
    },
    {
      "cell_type": "code",
      "source": [
        "#menampilkan kolom kelas dan total pemasukan penumpang kelas 3\n",
        "spark.sql('select Pclass, sum(fare) as Total from Titanic where Pclass=3 group by Pclass ')"
      ],
      "metadata": {
        "colab": {
          "base_uri": "https://localhost:8080/",
          "height": 67
        },
        "id": "kBtiOBLJIs10",
        "outputId": "8b706fa0-dae7-498a-ce03-a8d99a33acad"
      },
      "execution_count": 29,
      "outputs": [
        {
          "output_type": "execute_result",
          "data": {
            "text/plain": [
              "+------+-----------------+\n",
              "|Pclass|            Total|\n",
              "+------+-----------------+\n",
              "|     3|6714.695100000002|\n",
              "+------+-----------------+"
            ],
            "text/html": [
              "<table border='1'>\n",
              "<tr><th>Pclass</th><th>Total</th></tr>\n",
              "<tr><td>3</td><td>6714.695100000002</td></tr>\n",
              "</table>\n"
            ]
          },
          "metadata": {},
          "execution_count": 29
        }
      ]
    },
    {
      "cell_type": "code",
      "source": [
        "spark.sql('select Pclass, sum(fare) as Total from Titanic group by Pclass') \n",
        "#menampilkan total pemasukan dari masing2 kelas"
      ],
      "metadata": {
        "colab": {
          "base_uri": "https://localhost:8080/",
          "height": 112
        },
        "id": "cFIrKXysJHg_",
        "outputId": "6bb2e216-d3e1-47e1-9a69-f20acb929a71"
      },
      "execution_count": 30,
      "outputs": [
        {
          "output_type": "execute_result",
          "data": {
            "text/plain": [
              "+------+------------------+\n",
              "|Pclass|             Total|\n",
              "+------+------------------+\n",
              "|     1|18177.412499999984|\n",
              "|     3| 6714.695100000002|\n",
              "|     2|3801.8416999999995|\n",
              "+------+------------------+"
            ],
            "text/html": [
              "<table border='1'>\n",
              "<tr><th>Pclass</th><th>Total</th></tr>\n",
              "<tr><td>1</td><td>18177.412499999984</td></tr>\n",
              "<tr><td>3</td><td>6714.695100000002</td></tr>\n",
              "<tr><td>2</td><td>3801.8416999999995</td></tr>\n",
              "</table>\n"
            ]
          },
          "metadata": {},
          "execution_count": 30
        }
      ]
    },
    {
      "cell_type": "code",
      "source": [
        "spark.sql('select max(PassengerId) from Titanic') #menampilkan passengerid paling besar"
      ],
      "metadata": {
        "colab": {
          "base_uri": "https://localhost:8080/",
          "height": 67
        },
        "id": "6L-ZhmAYJs4n",
        "outputId": "3cab17e4-eeac-4fb6-f03c-303bd00fc19e"
      },
      "execution_count": 31,
      "outputs": [
        {
          "output_type": "execute_result",
          "data": {
            "text/plain": [
              "+----------------+\n",
              "|max(PassengerId)|\n",
              "+----------------+\n",
              "|             891|\n",
              "+----------------+"
            ],
            "text/html": [
              "<table border='1'>\n",
              "<tr><th>max(PassengerId)</th></tr>\n",
              "<tr><td>891</td></tr>\n",
              "</table>\n"
            ]
          },
          "metadata": {},
          "execution_count": 31
        }
      ]
    },
    {
      "cell_type": "code",
      "source": [
        "spark.sql('select distinct(Parch) from Titanic')"
      ],
      "metadata": {
        "colab": {
          "base_uri": "https://localhost:8080/",
          "height": 204
        },
        "id": "ckhiVcEcKTm0",
        "outputId": "db29c6a8-9f9c-4886-c873-403cbd5f9628"
      },
      "execution_count": 32,
      "outputs": [
        {
          "output_type": "execute_result",
          "data": {
            "text/plain": [
              "+-----+\n",
              "|Parch|\n",
              "+-----+\n",
              "|    1|\n",
              "|    6|\n",
              "|    3|\n",
              "|    5|\n",
              "|    4|\n",
              "|    2|\n",
              "|    0|\n",
              "+-----+"
            ],
            "text/html": [
              "<table border='1'>\n",
              "<tr><th>Parch</th></tr>\n",
              "<tr><td>1</td></tr>\n",
              "<tr><td>6</td></tr>\n",
              "<tr><td>3</td></tr>\n",
              "<tr><td>5</td></tr>\n",
              "<tr><td>4</td></tr>\n",
              "<tr><td>2</td></tr>\n",
              "<tr><td>0</td></tr>\n",
              "</table>\n"
            ]
          },
          "metadata": {},
          "execution_count": 32
        }
      ]
    },
    {
      "cell_type": "code",
      "source": [
        "spark.sql('select distinct(SibSp) from Titanic')"
      ],
      "metadata": {
        "colab": {
          "base_uri": "https://localhost:8080/",
          "height": 204
        },
        "id": "-8dQSSEeLLAB",
        "outputId": "47da7a6d-370b-4e47-f3b1-6df6b0dec043"
      },
      "execution_count": 33,
      "outputs": [
        {
          "output_type": "execute_result",
          "data": {
            "text/plain": [
              "+-----+\n",
              "|SibSp|\n",
              "+-----+\n",
              "|    1|\n",
              "|    3|\n",
              "|    5|\n",
              "|    4|\n",
              "|    8|\n",
              "|    2|\n",
              "|    0|\n",
              "+-----+"
            ],
            "text/html": [
              "<table border='1'>\n",
              "<tr><th>SibSp</th></tr>\n",
              "<tr><td>1</td></tr>\n",
              "<tr><td>3</td></tr>\n",
              "<tr><td>5</td></tr>\n",
              "<tr><td>4</td></tr>\n",
              "<tr><td>8</td></tr>\n",
              "<tr><td>2</td></tr>\n",
              "<tr><td>0</td></tr>\n",
              "</table>\n"
            ]
          },
          "metadata": {},
          "execution_count": 33
        }
      ]
    },
    {
      "cell_type": "code",
      "source": [
        "spark.sql('select Name, Parch, SibSp from Titanic where SibSp=4 and Parch=2')"
      ],
      "metadata": {
        "colab": {
          "base_uri": "https://localhost:8080/",
          "height": 250
        },
        "id": "eVnnFMFQLlSp",
        "outputId": "94e0b876-883e-44a6-f51f-e080dd67b94b"
      },
      "execution_count": 38,
      "outputs": [
        {
          "output_type": "execute_result",
          "data": {
            "text/plain": [
              "+--------------------+-----+-----+\n",
              "|                Name|Parch|SibSp|\n",
              "+--------------------+-----+-----+\n",
              "|Andersson, Miss. ...|    2|    4|\n",
              "|Andersson, Miss. ...|    2|    4|\n",
              "|Asplund, Master. ...|    2|    4|\n",
              "|Asplund, Miss. Li...|    2|    4|\n",
              "|Asplund, Master. ...|    2|    4|\n",
              "|Andersson, Miss. ...|    2|    4|\n",
              "|Andersson, Miss. ...|    2|    4|\n",
              "|Andersson, Miss. ...|    2|    4|\n",
              "|Andersson, Master...|    2|    4|\n",
              "+--------------------+-----+-----+"
            ],
            "text/html": [
              "<table border='1'>\n",
              "<tr><th>Name</th><th>Parch</th><th>SibSp</th></tr>\n",
              "<tr><td>Andersson, Miss. ...</td><td>2</td><td>4</td></tr>\n",
              "<tr><td>Andersson, Miss. ...</td><td>2</td><td>4</td></tr>\n",
              "<tr><td>Asplund, Master. ...</td><td>2</td><td>4</td></tr>\n",
              "<tr><td>Asplund, Miss. Li...</td><td>2</td><td>4</td></tr>\n",
              "<tr><td>Asplund, Master. ...</td><td>2</td><td>4</td></tr>\n",
              "<tr><td>Andersson, Miss. ...</td><td>2</td><td>4</td></tr>\n",
              "<tr><td>Andersson, Miss. ...</td><td>2</td><td>4</td></tr>\n",
              "<tr><td>Andersson, Miss. ...</td><td>2</td><td>4</td></tr>\n",
              "<tr><td>Andersson, Master...</td><td>2</td><td>4</td></tr>\n",
              "</table>\n"
            ]
          },
          "metadata": {},
          "execution_count": 38
        }
      ]
    },
    {
      "cell_type": "code",
      "source": [
        "spark.sql('select Name from Titanic where Name like\"%Andersson%\"') #menampilkan nama yg mengandung \"Andersson\""
      ],
      "metadata": {
        "colab": {
          "base_uri": "https://localhost:8080/",
          "height": 250
        },
        "id": "4561TxoRMlwX",
        "outputId": "f2b4b961-2242-4844-9b5b-361e3ed18571"
      },
      "execution_count": 39,
      "outputs": [
        {
          "output_type": "execute_result",
          "data": {
            "text/plain": [
              "+--------------------+\n",
              "|                Name|\n",
              "+--------------------+\n",
              "|Andersson, Mr. An...|\n",
              "|Andersson, Miss. ...|\n",
              "|Andersson, Miss. ...|\n",
              "|\"Andersson, Mr. A...|\n",
              "|Andersson, Miss. ...|\n",
              "|Andersson, Miss. ...|\n",
              "|Andersson, Mrs. A...|\n",
              "|Andersson, Miss. ...|\n",
              "|Andersson, Master...|\n",
              "+--------------------+"
            ],
            "text/html": [
              "<table border='1'>\n",
              "<tr><th>Name</th></tr>\n",
              "<tr><td>Andersson, Mr. An...</td></tr>\n",
              "<tr><td>Andersson, Miss. ...</td></tr>\n",
              "<tr><td>Andersson, Miss. ...</td></tr>\n",
              "<tr><td>&quot;Andersson, Mr. A...</td></tr>\n",
              "<tr><td>Andersson, Miss. ...</td></tr>\n",
              "<tr><td>Andersson, Miss. ...</td></tr>\n",
              "<tr><td>Andersson, Mrs. A...</td></tr>\n",
              "<tr><td>Andersson, Miss. ...</td></tr>\n",
              "<tr><td>Andersson, Master...</td></tr>\n",
              "</table>\n"
            ]
          },
          "metadata": {},
          "execution_count": 39
        }
      ]
    },
    {
      "cell_type": "code",
      "source": [
        "spark.sql('select Name from Titanic where Name like\"%Andersson%\" and Survived=1')\n",
        "#menampilkan nama yg mengandung \"andersson\" dan status selamat"
      ],
      "metadata": {
        "colab": {
          "base_uri": "https://localhost:8080/",
          "height": 89
        },
        "id": "54nIC5CwM_9L",
        "outputId": "690119c2-c1cc-4ee8-8eb8-5f9d458ac00c"
      },
      "execution_count": 40,
      "outputs": [
        {
          "output_type": "execute_result",
          "data": {
            "text/plain": [
              "+--------------------+\n",
              "|                Name|\n",
              "+--------------------+\n",
              "|Andersson, Miss. ...|\n",
              "|\"Andersson, Mr. A...|\n",
              "+--------------------+"
            ],
            "text/html": [
              "<table border='1'>\n",
              "<tr><th>Name</th></tr>\n",
              "<tr><td>Andersson, Miss. ...</td></tr>\n",
              "<tr><td>&quot;Andersson, Mr. A...</td></tr>\n",
              "</table>\n"
            ]
          },
          "metadata": {},
          "execution_count": 40
        }
      ]
    },
    {
      "cell_type": "code",
      "source": [
        "spark.sql('select count(Name) from Titanic where Name like\"%Andersson%\" and Survived=1') \n",
        "#menampilkan berapa jumlah anggota keluarga andersson yg selamat"
      ],
      "metadata": {
        "colab": {
          "base_uri": "https://localhost:8080/",
          "height": 67
        },
        "id": "UaNtBLzqNceW",
        "outputId": "605f42af-646f-4945-8954-f63cb81953c7"
      },
      "execution_count": 42,
      "outputs": [
        {
          "output_type": "execute_result",
          "data": {
            "text/plain": [
              "+-----------+\n",
              "|count(Name)|\n",
              "+-----------+\n",
              "|          2|\n",
              "+-----------+"
            ],
            "text/html": [
              "<table border='1'>\n",
              "<tr><th>count(Name)</th></tr>\n",
              "<tr><td>2</td></tr>\n",
              "</table>\n"
            ]
          },
          "metadata": {},
          "execution_count": 42
        }
      ]
    },
    {
      "cell_type": "code",
      "source": [
        "spark.sql('select count(Name) from Titanic where Name like\"%Andersson%\" and Survived=1 and Sex=\"female\"') \n",
        "##menampilkan berapa jumlah anggota keluarga andersson yg selamat dan berjenis kelamin perempuan"
      ],
      "metadata": {
        "colab": {
          "base_uri": "https://localhost:8080/",
          "height": 67
        },
        "id": "n7MTGmgpN3SZ",
        "outputId": "58d20f7c-dc1a-4d80-a0ca-76c1eda4b9d8"
      },
      "execution_count": 45,
      "outputs": [
        {
          "output_type": "execute_result",
          "data": {
            "text/plain": [
              "+-----------+\n",
              "|count(Name)|\n",
              "+-----------+\n",
              "|          1|\n",
              "+-----------+"
            ],
            "text/html": [
              "<table border='1'>\n",
              "<tr><th>count(Name)</th></tr>\n",
              "<tr><td>1</td></tr>\n",
              "</table>\n"
            ]
          },
          "metadata": {},
          "execution_count": 45
        }
      ]
    },
    {
      "cell_type": "code",
      "source": [
        "spark.sql('select Name, Sex from Titanic where (Name like\"%Andersson%\" or Name like \"%Asplund%\") and Sex=\"female\"')\n",
        "#menampilkan keluarga andersson dan asplund yg berjenis kelmain perempuan"
      ],
      "metadata": {
        "colab": {
          "base_uri": "https://localhost:8080/",
          "height": 227
        },
        "id": "82rpq_duOf4Z",
        "outputId": "ac9bfb37-25ca-415e-a96a-6fadab8a1703"
      },
      "execution_count": 49,
      "outputs": [
        {
          "output_type": "execute_result",
          "data": {
            "text/plain": [
              "+--------------------+------+\n",
              "|                Name|   Sex|\n",
              "+--------------------+------+\n",
              "|Asplund, Mrs. Car...|female|\n",
              "|Andersson, Miss. ...|female|\n",
              "|Andersson, Miss. ...|female|\n",
              "|Asplund, Miss. Li...|female|\n",
              "|Andersson, Miss. ...|female|\n",
              "|Andersson, Miss. ...|female|\n",
              "|Andersson, Mrs. A...|female|\n",
              "|Andersson, Miss. ...|female|\n",
              "+--------------------+------+"
            ],
            "text/html": [
              "<table border='1'>\n",
              "<tr><th>Name</th><th>Sex</th></tr>\n",
              "<tr><td>Asplund, Mrs. Car...</td><td>female</td></tr>\n",
              "<tr><td>Andersson, Miss. ...</td><td>female</td></tr>\n",
              "<tr><td>Andersson, Miss. ...</td><td>female</td></tr>\n",
              "<tr><td>Asplund, Miss. Li...</td><td>female</td></tr>\n",
              "<tr><td>Andersson, Miss. ...</td><td>female</td></tr>\n",
              "<tr><td>Andersson, Miss. ...</td><td>female</td></tr>\n",
              "<tr><td>Andersson, Mrs. A...</td><td>female</td></tr>\n",
              "<tr><td>Andersson, Miss. ...</td><td>female</td></tr>\n",
              "</table>\n"
            ]
          },
          "metadata": {},
          "execution_count": 49
        }
      ]
    },
    {
      "cell_type": "code",
      "source": [
        "spark.sql('select * from Titanic where Cabin <> \"Null\"') \n",
        "#menampilkan semua data dimana kabin tidak sama dengan null"
      ],
      "metadata": {
        "colab": {
          "base_uri": "https://localhost:8080/",
          "height": 520
        },
        "id": "9tiKRkzePYdb",
        "outputId": "bd93f0ca-54cf-4b3f-d249-15e14d2526d0"
      },
      "execution_count": 50,
      "outputs": [
        {
          "output_type": "execute_result",
          "data": {
            "text/plain": [
              "+-----------+--------+------+--------------------+------+----+-----+-----+-----------+--------+-----------+--------+\n",
              "|PassengerId|Survived|Pclass|                Name|   Sex| Age|SibSp|Parch|     Ticket|    Fare|      Cabin|Embarked|\n",
              "+-----------+--------+------+--------------------+------+----+-----+-----+-----------+--------+-----------+--------+\n",
              "|          2|       1|     1|Cumings, Mrs. Joh...|female|38.0|    1|    0|   PC 17599| 71.2833|        C85|       C|\n",
              "|          4|       1|     1|Futrelle, Mrs. Ja...|female|35.0|    1|    0|     113803|    53.1|       C123|       S|\n",
              "|          7|       0|     1|McCarthy, Mr. Tim...|  male|54.0|    0|    0|      17463| 51.8625|        E46|       S|\n",
              "|         11|       1|     3|Sandstrom, Miss. ...|female| 4.0|    1|    1|    PP 9549|    16.7|         G6|       S|\n",
              "|         12|       1|     1|Bonnell, Miss. El...|female|58.0|    0|    0|     113783|   26.55|       C103|       S|\n",
              "|         22|       1|     2|Beesley, Mr. Lawr...|  male|34.0|    0|    0|     248698|    13.0|        D56|       S|\n",
              "|         24|       1|     1|Sloper, Mr. Willi...|  male|28.0|    0|    0|     113788|    35.5|         A6|       S|\n",
              "|         28|       0|     1|Fortune, Mr. Char...|  male|19.0|    3|    2|      19950|   263.0|C23 C25 C27|       S|\n",
              "|         32|       1|     1|Spencer, Mrs. Wil...|female|null|    1|    0|   PC 17569|146.5208|        B78|       C|\n",
              "|         53|       1|     1|Harper, Mrs. Henr...|female|49.0|    1|    0|   PC 17572| 76.7292|        D33|       C|\n",
              "|         55|       0|     1|Ostby, Mr. Engelh...|  male|65.0|    0|    1|     113509| 61.9792|        B30|       C|\n",
              "|         56|       1|     1|   Woolner, Mr. Hugh|  male|null|    0|    0|      19947|    35.5|        C52|       S|\n",
              "|         62|       1|     1| Icard, Miss. Amelie|female|38.0|    0|    0|     113572|    80.0|        B28|    null|\n",
              "|         63|       0|     1|Harris, Mr. Henry...|  male|45.0|    1|    0|      36973|  83.475|        C83|       S|\n",
              "|         67|       1|     2|Nye, Mrs. (Elizab...|female|29.0|    0|    0| C.A. 29395|    10.5|        F33|       S|\n",
              "|         76|       0|     3|Moen, Mr. Sigurd ...|  male|25.0|    0|    0|     348123|    7.65|      F G73|       S|\n",
              "|         89|       1|     1|Fortune, Miss. Ma...|female|23.0|    3|    2|      19950|   263.0|C23 C25 C27|       S|\n",
              "|         93|       0|     1|Chaffee, Mr. Herb...|  male|46.0|    1|    0|W.E.P. 5734|  61.175|        E31|       S|\n",
              "|         97|       0|     1|Goldschmidt, Mr. ...|  male|71.0|    0|    0|   PC 17754| 34.6542|         A5|       C|\n",
              "|         98|       1|     1|Greenfield, Mr. W...|  male|23.0|    0|    1|   PC 17759| 63.3583|    D10 D12|       C|\n",
              "+-----------+--------+------+--------------------+------+----+-----+-----+-----------+--------+-----------+--------+\n",
              "only showing top 20 rows"
            ],
            "text/html": [
              "<table border='1'>\n",
              "<tr><th>PassengerId</th><th>Survived</th><th>Pclass</th><th>Name</th><th>Sex</th><th>Age</th><th>SibSp</th><th>Parch</th><th>Ticket</th><th>Fare</th><th>Cabin</th><th>Embarked</th></tr>\n",
              "<tr><td>2</td><td>1</td><td>1</td><td>Cumings, Mrs. Joh...</td><td>female</td><td>38.0</td><td>1</td><td>0</td><td>PC 17599</td><td>71.2833</td><td>C85</td><td>C</td></tr>\n",
              "<tr><td>4</td><td>1</td><td>1</td><td>Futrelle, Mrs. Ja...</td><td>female</td><td>35.0</td><td>1</td><td>0</td><td>113803</td><td>53.1</td><td>C123</td><td>S</td></tr>\n",
              "<tr><td>7</td><td>0</td><td>1</td><td>McCarthy, Mr. Tim...</td><td>male</td><td>54.0</td><td>0</td><td>0</td><td>17463</td><td>51.8625</td><td>E46</td><td>S</td></tr>\n",
              "<tr><td>11</td><td>1</td><td>3</td><td>Sandstrom, Miss. ...</td><td>female</td><td>4.0</td><td>1</td><td>1</td><td>PP 9549</td><td>16.7</td><td>G6</td><td>S</td></tr>\n",
              "<tr><td>12</td><td>1</td><td>1</td><td>Bonnell, Miss. El...</td><td>female</td><td>58.0</td><td>0</td><td>0</td><td>113783</td><td>26.55</td><td>C103</td><td>S</td></tr>\n",
              "<tr><td>22</td><td>1</td><td>2</td><td>Beesley, Mr. Lawr...</td><td>male</td><td>34.0</td><td>0</td><td>0</td><td>248698</td><td>13.0</td><td>D56</td><td>S</td></tr>\n",
              "<tr><td>24</td><td>1</td><td>1</td><td>Sloper, Mr. Willi...</td><td>male</td><td>28.0</td><td>0</td><td>0</td><td>113788</td><td>35.5</td><td>A6</td><td>S</td></tr>\n",
              "<tr><td>28</td><td>0</td><td>1</td><td>Fortune, Mr. Char...</td><td>male</td><td>19.0</td><td>3</td><td>2</td><td>19950</td><td>263.0</td><td>C23 C25 C27</td><td>S</td></tr>\n",
              "<tr><td>32</td><td>1</td><td>1</td><td>Spencer, Mrs. Wil...</td><td>female</td><td>null</td><td>1</td><td>0</td><td>PC 17569</td><td>146.5208</td><td>B78</td><td>C</td></tr>\n",
              "<tr><td>53</td><td>1</td><td>1</td><td>Harper, Mrs. Henr...</td><td>female</td><td>49.0</td><td>1</td><td>0</td><td>PC 17572</td><td>76.7292</td><td>D33</td><td>C</td></tr>\n",
              "<tr><td>55</td><td>0</td><td>1</td><td>Ostby, Mr. Engelh...</td><td>male</td><td>65.0</td><td>0</td><td>1</td><td>113509</td><td>61.9792</td><td>B30</td><td>C</td></tr>\n",
              "<tr><td>56</td><td>1</td><td>1</td><td>Woolner, Mr. Hugh</td><td>male</td><td>null</td><td>0</td><td>0</td><td>19947</td><td>35.5</td><td>C52</td><td>S</td></tr>\n",
              "<tr><td>62</td><td>1</td><td>1</td><td>Icard, Miss. Amelie</td><td>female</td><td>38.0</td><td>0</td><td>0</td><td>113572</td><td>80.0</td><td>B28</td><td>null</td></tr>\n",
              "<tr><td>63</td><td>0</td><td>1</td><td>Harris, Mr. Henry...</td><td>male</td><td>45.0</td><td>1</td><td>0</td><td>36973</td><td>83.475</td><td>C83</td><td>S</td></tr>\n",
              "<tr><td>67</td><td>1</td><td>2</td><td>Nye, Mrs. (Elizab...</td><td>female</td><td>29.0</td><td>0</td><td>0</td><td>C.A. 29395</td><td>10.5</td><td>F33</td><td>S</td></tr>\n",
              "<tr><td>76</td><td>0</td><td>3</td><td>Moen, Mr. Sigurd ...</td><td>male</td><td>25.0</td><td>0</td><td>0</td><td>348123</td><td>7.65</td><td>F G73</td><td>S</td></tr>\n",
              "<tr><td>89</td><td>1</td><td>1</td><td>Fortune, Miss. Ma...</td><td>female</td><td>23.0</td><td>3</td><td>2</td><td>19950</td><td>263.0</td><td>C23 C25 C27</td><td>S</td></tr>\n",
              "<tr><td>93</td><td>0</td><td>1</td><td>Chaffee, Mr. Herb...</td><td>male</td><td>46.0</td><td>1</td><td>0</td><td>W.E.P. 5734</td><td>61.175</td><td>E31</td><td>S</td></tr>\n",
              "<tr><td>97</td><td>0</td><td>1</td><td>Goldschmidt, Mr. ...</td><td>male</td><td>71.0</td><td>0</td><td>0</td><td>PC 17754</td><td>34.6542</td><td>A5</td><td>C</td></tr>\n",
              "<tr><td>98</td><td>1</td><td>1</td><td>Greenfield, Mr. W...</td><td>male</td><td>23.0</td><td>0</td><td>1</td><td>PC 17759</td><td>63.3583</td><td>D10 D12</td><td>C</td></tr>\n",
              "</table>\n",
              "only showing top 20 rows\n"
            ]
          },
          "metadata": {},
          "execution_count": 50
        }
      ]
    },
    {
      "cell_type": "code",
      "source": [
        "#menampilkan jumlah penumpang yang ada disemua cabin\n",
        "spark.sql(' select count(Name) from Titanic where Cabin <> \"Null\"')"
      ],
      "metadata": {
        "colab": {
          "base_uri": "https://localhost:8080/",
          "height": 67
        },
        "id": "INGZDGNBPvtV",
        "outputId": "cce2b9fc-144d-4036-f852-9a1a8c50db65"
      },
      "execution_count": 51,
      "outputs": [
        {
          "output_type": "execute_result",
          "data": {
            "text/plain": [
              "+-----------+\n",
              "|count(Name)|\n",
              "+-----------+\n",
              "|        204|\n",
              "+-----------+"
            ],
            "text/html": [
              "<table border='1'>\n",
              "<tr><th>count(Name)</th></tr>\n",
              "<tr><td>204</td></tr>\n",
              "</table>\n"
            ]
          },
          "metadata": {},
          "execution_count": 51
        }
      ]
    },
    {
      "cell_type": "code",
      "source": [
        "spark.sql(' select count(Name) from Titanic where Cabin <> \"Null\" and Survived=1') \n",
        "#menampilkan jumlah penumpang yg selamat dan ada di dalam cabin"
      ],
      "metadata": {
        "colab": {
          "base_uri": "https://localhost:8080/",
          "height": 67
        },
        "id": "emgFTFInQL82",
        "outputId": "94e21d36-87c1-4df0-ad5f-51c4b4c8edac"
      },
      "execution_count": 52,
      "outputs": [
        {
          "output_type": "execute_result",
          "data": {
            "text/plain": [
              "+-----------+\n",
              "|count(Name)|\n",
              "+-----------+\n",
              "|        136|\n",
              "+-----------+"
            ],
            "text/html": [
              "<table border='1'>\n",
              "<tr><th>count(Name)</th></tr>\n",
              "<tr><td>136</td></tr>\n",
              "</table>\n"
            ]
          },
          "metadata": {},
          "execution_count": 52
        }
      ]
    }
  ]
}